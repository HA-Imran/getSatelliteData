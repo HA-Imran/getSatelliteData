{
 "cells": [
  {
   "cell_type": "code",
   "execution_count": 2,
   "id": "6301d5c6-6478-40ed-8ef9-f5a71f8212ac",
   "metadata": {
    "tags": []
   },
   "outputs": [
    {
     "name": "stderr",
     "output_type": "stream",
     "text": [
      "WARNING: Rtools is required to build R packages, but is not currently installed.\n",
      "\n",
      "Please download and install Rtools 4.0 from https://cran.r-project.org/bin/windows/Rtools/.\n",
      "\n",
      "Downloading GitHub repo 16EAGLE/getSpatialData@HEAD\n",
      "\n"
     ]
    },
    {
     "name": "stdout",
     "output_type": "stream",
     "text": [
      "utf8         (1.2.2   -> 1.2.3  ) [CRAN]\n",
      "colorspace   (2.0-3   -> 2.1-0  ) [CRAN]\n",
      "pillar       (1.8.0   -> 1.9.0  ) [CRAN]\n",
      "fansi        (1.0.3   -> 1.0.4  ) [CRAN]\n",
      "viridisLite  (0.4.0   -> 0.4.2  ) [CRAN]\n",
      "vctrs        (0.6.1   -> 0.6.2  ) [CRAN]\n",
      "tibble       (3.1.8   -> 3.2.1  ) [CRAN]\n",
      "scales       (1.2.0   -> 1.2.1  ) [CRAN]\n",
      "rlang        (1.1.0   -> 1.1.1  ) [CRAN]\n",
      "isoband      (0.2.5   -> 0.2.7  ) [CRAN]\n",
      "gtable       (0.3.0   -> 0.3.3  ) [CRAN]\n",
      "cli          (3.3.0   -> 3.6.1  ) [CRAN]\n",
      "fs           (1.5.2   -> 1.6.2  ) [CRAN]\n",
      "Rcpp         (1.0.8.3 -> 1.0.10 ) [CRAN]\n",
      "digest       (0.6.29  -> 0.6.31 ) [CRAN]\n",
      "sass         (0.4.2   -> 0.4.6  ) [CRAN]\n",
      "cachem       (1.0.6   -> 1.0.8  ) [CRAN]\n",
      "bslib        (0.4.0   -> 0.5.0  ) [CRAN]\n",
      "commonmark   (1.8.0   -> 1.9.0  ) [CRAN]\n",
      "fastmap      (1.1.0   -> 1.1.1  ) [CRAN]\n",
      "crayon       (1.5.1   -> 1.5.2  ) [CRAN]\n",
      "later        (1.3.0   -> 1.3.1  ) [CRAN]\n",
      "sourcetools  (0.1.7   -> 0.1.7-1) [CRAN]\n",
      "htmltools    (0.5.3   -> 0.5.5  ) [CRAN]\n",
      "fontawesome  (0.3.0   -> 0.5.1  ) [CRAN]\n",
      "jsonlite     (1.8.0   -> 1.8.5  ) [CRAN]\n",
      "httpuv       (1.6.5   -> 1.6.11 ) [CRAN]\n",
      "shiny        (1.7.2   -> 1.7.4  ) [CRAN]\n",
      "stringi      (1.7.6   -> 1.7.12 ) [CRAN]\n",
      "ps           (1.7.1   -> 1.7.5  ) [CRAN]\n",
      "cpp11        (0.4.2   -> 0.4.3  ) [CRAN]\n",
      "wk           (0.6.0   -> 0.7.3  ) [CRAN]\n",
      "tinytex      (0.40    -> 0.45   ) [CRAN]\n",
      "stringr      (1.4.0   -> 1.5.0  ) [CRAN]\n",
      "highr        (0.9     -> 0.10   ) [CRAN]\n",
      "evaluate     (0.15    -> 0.21   ) [CRAN]\n",
      "sfheaders    (NA      -> 0.4.2  ) [CRAN]\n",
      "rapidjsonr   (NA      -> 1.2.0  ) [CRAN]\n",
      "jsonify      (NA      -> 1.2.2  ) [CRAN]\n",
      "geometries   (NA      -> 0.2.2  ) [CRAN]\n",
      "lazyeval     (NA      -> 0.2.2  ) [CRAN]\n",
      "e1071        (1.7-11  -> 1.7-13 ) [CRAN]\n",
      "processx     (3.7.0   -> 3.8.1  ) [CRAN]\n",
      "callr        (3.7.1   -> 3.7.3  ) [CRAN]\n",
      "units        (0.8-0   -> 0.8-2  ) [CRAN]\n",
      "s2           (1.1.0   -> 1.1.4  ) [CRAN]\n",
      "classInt     (0.4-7   -> 0.4-9  ) [CRAN]\n",
      "xfun         (0.31    -> 0.39   ) [CRAN]\n",
      "plyr         (1.8.7   -> 1.8.8  ) [CRAN]\n",
      "terra        (1.6-3   -> 1.7-29 ) [CRAN]\n",
      "svglite      (NA      -> 2.1.1  ) [CRAN]\n",
      "brew         (1.0-7   -> 1.0-8  ) [CRAN]\n",
      "leaflet.p... (NA      -> 1.9.0  ) [CRAN]\n",
      "viridis      (0.6.2   -> 0.6.3  ) [CRAN]\n",
      "markdown     (NA      -> 1.7    ) [CRAN]\n",
      "crosstalk    (NA      -> 1.2.0  ) [CRAN]\n",
      "geojsonsf    (NA      -> 2.0.3  ) [CRAN]\n",
      "rmarkdown    (2.14    -> 2.22   ) [CRAN]\n",
      "knitr        (1.39    -> 1.43   ) [CRAN]\n",
      "yaml         (2.3.5   -> 2.3.7  ) [CRAN]\n",
      "webshot      (NA      -> 0.5.4  ) [CRAN]\n",
      "sp           (1.5-0   -> 1.6-1  ) [CRAN]\n",
      "sf           (1.0-8   -> 1.0-13 ) [CRAN]\n",
      "servr        (NA      -> 0.27   ) [CRAN]\n",
      "satellite    (NA      -> 1.0.4  ) [CRAN]\n",
      "raster       (3.5-21  -> 3.6-20 ) [CRAN]\n",
      "png          (0.1-7   -> 0.1-8  ) [CRAN]\n",
      "leafpop      (NA      -> 0.1.0  ) [CRAN]\n",
      "leaflet      (NA      -> 2.1.2  ) [CRAN]\n",
      "leafem       (NA      -> 0.2.0  ) [CRAN]\n",
      "htmlwidgets  (1.5.4   -> 1.6.2  ) [CRAN]\n",
      "tidyselect   (1.1.2   -> 1.2.0  ) [CRAN]\n",
      "dplyr        (1.0.10  -> 1.1.2  ) [CRAN]\n",
      "sys          (3.4     -> 3.4.2  ) [CRAN]\n",
      "mapview      (NA      -> 2.11.0 ) [CRAN]\n",
      "leafpm       (NA      -> 0.1.0  ) [CRAN]\n",
      "leaflet.e... (NA      -> 1.0.0  ) [CRAN]\n",
      "openssl      (2.0.0   -> 2.0.6  ) [CRAN]\n",
      "curl         (4.3.2   -> 5.0.1  ) [CRAN]\n",
      "rstudioapi   (0.13    -> 0.14   ) [CRAN]\n",
      "pbapply      (NA      -> 1.7-0  ) [CRAN]\n",
      "patchwork    (NA      -> 1.1.2  ) [CRAN]\n",
      "mapedit      (NA      -> 0.6.0  ) [CRAN]\n",
      "lwgeom       (0.2-11  -> 0.2-13 ) [CRAN]\n",
      "xml2         (1.3.3   -> 1.3.4  ) [CRAN]\n",
      "httr         (1.4.3   -> 1.4.6  ) [CRAN]\n",
      "getPass      (NA      -> 0.2-2  ) [CRAN]\n"
     ]
    },
    {
     "name": "stderr",
     "output_type": "stream",
     "text": [
      "Skipping 1 packages not available: RStoolbox\n",
      "\n",
      "Installing 87 packages: utf8, colorspace, pillar, fansi, viridisLite, vctrs, tibble, scales, rlang, isoband, gtable, cli, fs, Rcpp, digest, sass, cachem, bslib, commonmark, fastmap, crayon, later, sourcetools, htmltools, fontawesome, jsonlite, httpuv, shiny, stringi, ps, cpp11, wk, tinytex, stringr, highr, evaluate, sfheaders, rapidjsonr, jsonify, geometries, lazyeval, e1071, processx, callr, units, s2, classInt, xfun, plyr, terra, svglite, brew, leaflet.providers, viridis, markdown, crosstalk, geojsonsf, rmarkdown, knitr, yaml, webshot, sp, sf, servr, satellite, raster, png, leafpop, leaflet, leafem, htmlwidgets, tidyselect, dplyr, sys, mapview, leafpm, leaflet.extras, openssl, curl, rstudioapi, pbapply, patchwork, mapedit, lwgeom, xml2, httr, getPass\n",
      "\n",
      "Installing packages into 'C:/Users/hfz_a/Documents/R/win-library/4.1'\n",
      "(as 'lib' is unspecified)\n",
      "\n"
     ]
    },
    {
     "name": "stdout",
     "output_type": "stream",
     "text": [
      "\n",
      "  There are binary versions available but the source versions are later:\n",
      "            binary source needs_compilation\n",
      "viridisLite  0.4.1  0.4.2             FALSE\n",
      "vctrs        0.6.1  0.6.2              TRUE\n",
      "rlang        1.1.0  1.1.1              TRUE\n",
      "fs           1.5.2  1.6.2              TRUE\n",
      "sass         0.4.5  0.4.6              TRUE\n",
      "cachem       1.0.7  1.0.8              TRUE\n",
      "bslib        0.4.2  0.5.0             FALSE\n",
      "later        1.3.0  1.3.1              TRUE\n",
      "jsonlite     1.8.4  1.8.5              TRUE\n",
      "httpuv       1.6.9 1.6.11              TRUE\n",
      "wk           0.7.2  0.7.3              TRUE\n",
      "evaluate      0.20   0.21             FALSE\n",
      "units        0.8-1  0.8-2              TRUE\n",
      "s2           1.1.2  1.1.4              TRUE\n",
      "terra       1.7-23 1.7-29              TRUE\n",
      "viridis      0.6.2  0.6.3             FALSE\n",
      "markdown       1.6    1.7             FALSE\n",
      "rmarkdown     2.21   2.22             FALSE\n",
      "knitr         1.42   1.43             FALSE\n",
      "sp           1.6-0  1.6-1              TRUE\n",
      "sf          1.0-12 1.0-13              TRUE\n",
      "servr         0.26   0.27             FALSE\n",
      "sys          3.4.1  3.4.2              TRUE\n",
      "curl         5.0.0  5.0.1              TRUE\n",
      "lwgeom      0.2-11 0.2-13              TRUE\n",
      "xml2         1.3.3  1.3.4              TRUE\n",
      "httr         1.4.5  1.4.6             FALSE\n",
      "\n",
      "  Binaries will be installed\n",
      "package 'utf8' successfully unpacked and MD5 sums checked\n"
     ]
    },
    {
     "name": "stderr",
     "output_type": "stream",
     "text": [
      "Warning message:\n",
      "\"cannot remove prior installation of package 'utf8'\"\n",
      "Warning message in file.copy(savedcopy, lib, recursive = TRUE):\n",
      "\"problem copying C:\\Users\\hfz_a\\Documents\\R\\win-library\\4.1\\00LOCK\\utf8\\libs\\x64\\utf8.dll to C:\\Users\\hfz_a\\Documents\\R\\win-library\\4.1\\utf8\\libs\\x64\\utf8.dll: Permission denied\"\n",
      "Warning message:\n",
      "\"restored 'utf8'\"\n"
     ]
    },
    {
     "name": "stdout",
     "output_type": "stream",
     "text": [
      "package 'colorspace' successfully unpacked and MD5 sums checked\n",
      "package 'pillar' successfully unpacked and MD5 sums checked\n",
      "package 'fansi' successfully unpacked and MD5 sums checked\n"
     ]
    },
    {
     "name": "stderr",
     "output_type": "stream",
     "text": [
      "Warning message:\n",
      "\"cannot remove prior installation of package 'fansi'\"\n",
      "Warning message in file.copy(savedcopy, lib, recursive = TRUE):\n",
      "\"problem copying C:\\Users\\hfz_a\\Documents\\R\\win-library\\4.1\\00LOCK\\fansi\\libs\\x64\\fansi.dll to C:\\Users\\hfz_a\\Documents\\R\\win-library\\4.1\\fansi\\libs\\x64\\fansi.dll: Permission denied\"\n",
      "Warning message:\n",
      "\"restored 'fansi'\"\n"
     ]
    },
    {
     "name": "stdout",
     "output_type": "stream",
     "text": [
      "package 'vctrs' successfully unpacked and MD5 sums checked\n"
     ]
    },
    {
     "name": "stderr",
     "output_type": "stream",
     "text": [
      "Warning message:\n",
      "\"cannot remove prior installation of package 'vctrs'\"\n",
      "Warning message in file.copy(savedcopy, lib, recursive = TRUE):\n",
      "\"problem copying C:\\Users\\hfz_a\\Documents\\R\\win-library\\4.1\\00LOCK\\vctrs\\libs\\x64\\vctrs.dll to C:\\Users\\hfz_a\\Documents\\R\\win-library\\4.1\\vctrs\\libs\\x64\\vctrs.dll: Permission denied\"\n",
      "Warning message:\n",
      "\"restored 'vctrs'\"\n"
     ]
    },
    {
     "name": "stdout",
     "output_type": "stream",
     "text": [
      "package 'tibble' successfully unpacked and MD5 sums checked\n",
      "package 'scales' successfully unpacked and MD5 sums checked\n",
      "package 'rlang' successfully unpacked and MD5 sums checked\n"
     ]
    },
    {
     "name": "stderr",
     "output_type": "stream",
     "text": [
      "Warning message:\n",
      "\"cannot remove prior installation of package 'rlang'\"\n",
      "Warning message in file.copy(savedcopy, lib, recursive = TRUE):\n",
      "\"problem copying C:\\Users\\hfz_a\\Documents\\R\\win-library\\4.1\\00LOCK\\rlang\\libs\\x64\\rlang.dll to C:\\Users\\hfz_a\\Documents\\R\\win-library\\4.1\\rlang\\libs\\x64\\rlang.dll: Permission denied\"\n",
      "Warning message:\n",
      "\"restored 'rlang'\"\n"
     ]
    },
    {
     "name": "stdout",
     "output_type": "stream",
     "text": [
      "package 'isoband' successfully unpacked and MD5 sums checked\n",
      "package 'gtable' successfully unpacked and MD5 sums checked\n",
      "package 'cli' successfully unpacked and MD5 sums checked\n"
     ]
    },
    {
     "name": "stderr",
     "output_type": "stream",
     "text": [
      "Warning message:\n",
      "\"cannot remove prior installation of package 'cli'\"\n",
      "Warning message in file.copy(savedcopy, lib, recursive = TRUE):\n",
      "\"problem copying C:\\Users\\hfz_a\\Documents\\R\\win-library\\4.1\\00LOCK\\cli\\libs\\x64\\cli.dll to C:\\Users\\hfz_a\\Documents\\R\\win-library\\4.1\\cli\\libs\\x64\\cli.dll: Permission denied\"\n",
      "Warning message:\n",
      "\"restored 'cli'\"\n"
     ]
    },
    {
     "name": "stdout",
     "output_type": "stream",
     "text": [
      "package 'fs' successfully unpacked and MD5 sums checked\n"
     ]
    },
    {
     "name": "stderr",
     "output_type": "stream",
     "text": [
      "Warning message:\n",
      "\"cannot remove prior installation of package 'fs'\"\n",
      "Warning message in file.copy(savedcopy, lib, recursive = TRUE):\n",
      "\"problem copying C:\\Users\\hfz_a\\Documents\\R\\win-library\\4.1\\00LOCK\\fs\\libs\\x64\\fs.dll to C:\\Users\\hfz_a\\Documents\\R\\win-library\\4.1\\fs\\libs\\x64\\fs.dll: Permission denied\"\n",
      "Warning message:\n",
      "\"restored 'fs'\"\n"
     ]
    },
    {
     "name": "stdout",
     "output_type": "stream",
     "text": [
      "package 'Rcpp' successfully unpacked and MD5 sums checked\n"
     ]
    },
    {
     "name": "stderr",
     "output_type": "stream",
     "text": [
      "Warning message:\n",
      "\"cannot remove prior installation of package 'Rcpp'\"\n",
      "Warning message in file.copy(savedcopy, lib, recursive = TRUE):\n",
      "\"problem copying C:\\Users\\hfz_a\\Documents\\R\\win-library\\4.1\\00LOCK\\Rcpp\\libs\\x64\\Rcpp.dll to C:\\Users\\hfz_a\\Documents\\R\\win-library\\4.1\\Rcpp\\libs\\x64\\Rcpp.dll: Permission denied\"\n",
      "Warning message:\n",
      "\"restored 'Rcpp'\"\n"
     ]
    },
    {
     "name": "stdout",
     "output_type": "stream",
     "text": [
      "package 'digest' successfully unpacked and MD5 sums checked\n"
     ]
    },
    {
     "name": "stderr",
     "output_type": "stream",
     "text": [
      "Warning message:\n",
      "\"cannot remove prior installation of package 'digest'\"\n",
      "Warning message in file.copy(savedcopy, lib, recursive = TRUE):\n",
      "\"problem copying C:\\Users\\hfz_a\\Documents\\R\\win-library\\4.1\\00LOCK\\digest\\libs\\x64\\digest.dll to C:\\Users\\hfz_a\\Documents\\R\\win-library\\4.1\\digest\\libs\\x64\\digest.dll: Permission denied\"\n",
      "Warning message:\n",
      "\"restored 'digest'\"\n"
     ]
    },
    {
     "name": "stdout",
     "output_type": "stream",
     "text": [
      "package 'sass' successfully unpacked and MD5 sums checked\n",
      "package 'cachem' successfully unpacked and MD5 sums checked\n"
     ]
    },
    {
     "name": "stderr",
     "output_type": "stream",
     "text": [
      "Warning message:\n",
      "\"cannot remove prior installation of package 'cachem'\"\n",
      "Warning message in file.copy(savedcopy, lib, recursive = TRUE):\n",
      "\"problem copying C:\\Users\\hfz_a\\Documents\\R\\win-library\\4.1\\00LOCK\\cachem\\libs\\x64\\cachem.dll to C:\\Users\\hfz_a\\Documents\\R\\win-library\\4.1\\cachem\\libs\\x64\\cachem.dll: Permission denied\"\n",
      "Warning message:\n",
      "\"restored 'cachem'\"\n"
     ]
    },
    {
     "name": "stdout",
     "output_type": "stream",
     "text": [
      "package 'commonmark' successfully unpacked and MD5 sums checked\n",
      "package 'fastmap' successfully unpacked and MD5 sums checked\n"
     ]
    },
    {
     "name": "stderr",
     "output_type": "stream",
     "text": [
      "Warning message:\n",
      "\"cannot remove prior installation of package 'fastmap'\"\n",
      "Warning message in file.copy(savedcopy, lib, recursive = TRUE):\n",
      "\"problem copying C:\\Users\\hfz_a\\Documents\\R\\win-library\\4.1\\00LOCK\\fastmap\\libs\\x64\\fastmap.dll to C:\\Users\\hfz_a\\Documents\\R\\win-library\\4.1\\fastmap\\libs\\x64\\fastmap.dll: Permission denied\"\n",
      "Warning message:\n",
      "\"restored 'fastmap'\"\n"
     ]
    },
    {
     "name": "stdout",
     "output_type": "stream",
     "text": [
      "package 'crayon' successfully unpacked and MD5 sums checked\n",
      "package 'later' successfully unpacked and MD5 sums checked\n"
     ]
    },
    {
     "name": "stderr",
     "output_type": "stream",
     "text": [
      "Warning message:\n",
      "\"cannot remove prior installation of package 'later'\"\n",
      "Warning message in file.copy(savedcopy, lib, recursive = TRUE):\n",
      "\"problem copying C:\\Users\\hfz_a\\Documents\\R\\win-library\\4.1\\00LOCK\\later\\libs\\x64\\later.dll to C:\\Users\\hfz_a\\Documents\\R\\win-library\\4.1\\later\\libs\\x64\\later.dll: Permission denied\"\n",
      "Warning message:\n",
      "\"restored 'later'\"\n"
     ]
    },
    {
     "name": "stdout",
     "output_type": "stream",
     "text": [
      "package 'sourcetools' successfully unpacked and MD5 sums checked\n",
      "package 'htmltools' successfully unpacked and MD5 sums checked\n"
     ]
    },
    {
     "name": "stderr",
     "output_type": "stream",
     "text": [
      "Warning message:\n",
      "\"cannot remove prior installation of package 'htmltools'\"\n",
      "Warning message in file.copy(savedcopy, lib, recursive = TRUE):\n",
      "\"problem copying C:\\Users\\hfz_a\\Documents\\R\\win-library\\4.1\\00LOCK\\htmltools\\libs\\x64\\htmltools.dll to C:\\Users\\hfz_a\\Documents\\R\\win-library\\4.1\\htmltools\\libs\\x64\\htmltools.dll: Permission denied\"\n",
      "Warning message:\n",
      "\"restored 'htmltools'\"\n"
     ]
    },
    {
     "name": "stdout",
     "output_type": "stream",
     "text": [
      "package 'fontawesome' successfully unpacked and MD5 sums checked\n",
      "package 'jsonlite' successfully unpacked and MD5 sums checked\n"
     ]
    },
    {
     "name": "stderr",
     "output_type": "stream",
     "text": [
      "Warning message:\n",
      "\"cannot remove prior installation of package 'jsonlite'\"\n",
      "Warning message in file.copy(savedcopy, lib, recursive = TRUE):\n",
      "\"problem copying C:\\Users\\hfz_a\\Documents\\R\\win-library\\4.1\\00LOCK\\jsonlite\\libs\\x64\\jsonlite.dll to C:\\Users\\hfz_a\\Documents\\R\\win-library\\4.1\\jsonlite\\libs\\x64\\jsonlite.dll: Permission denied\"\n",
      "Warning message:\n",
      "\"restored 'jsonlite'\"\n"
     ]
    },
    {
     "name": "stdout",
     "output_type": "stream",
     "text": [
      "package 'httpuv' successfully unpacked and MD5 sums checked\n"
     ]
    },
    {
     "name": "stderr",
     "output_type": "stream",
     "text": [
      "Warning message:\n",
      "\"cannot remove prior installation of package 'httpuv'\"\n",
      "Warning message in file.copy(savedcopy, lib, recursive = TRUE):\n",
      "\"problem copying C:\\Users\\hfz_a\\Documents\\R\\win-library\\4.1\\00LOCK\\httpuv\\libs\\x64\\httpuv.dll to C:\\Users\\hfz_a\\Documents\\R\\win-library\\4.1\\httpuv\\libs\\x64\\httpuv.dll: Permission denied\"\n",
      "Warning message:\n",
      "\"restored 'httpuv'\"\n"
     ]
    },
    {
     "name": "stdout",
     "output_type": "stream",
     "text": [
      "package 'shiny' successfully unpacked and MD5 sums checked\n",
      "package 'stringi' successfully unpacked and MD5 sums checked\n"
     ]
    },
    {
     "name": "stderr",
     "output_type": "stream",
     "text": [
      "Warning message:\n",
      "\"cannot remove prior installation of package 'stringi'\"\n",
      "Warning message in file.copy(savedcopy, lib, recursive = TRUE):\n",
      "\"problem copying C:\\Users\\hfz_a\\Documents\\R\\win-library\\4.1\\00LOCK\\stringi\\libs\\icudt69l.dat to C:\\Users\\hfz_a\\Documents\\R\\win-library\\4.1\\stringi\\libs\\icudt69l.dat: Invalid argument\"\n",
      "Warning message in file.copy(savedcopy, lib, recursive = TRUE):\n",
      "\"problem copying C:\\Users\\hfz_a\\Documents\\R\\win-library\\4.1\\00LOCK\\stringi\\libs\\x64\\stringi.dll to C:\\Users\\hfz_a\\Documents\\R\\win-library\\4.1\\stringi\\libs\\x64\\stringi.dll: Permission denied\"\n",
      "Warning message:\n",
      "\"restored 'stringi'\"\n"
     ]
    },
    {
     "name": "stdout",
     "output_type": "stream",
     "text": [
      "package 'ps' successfully unpacked and MD5 sums checked\n"
     ]
    },
    {
     "name": "stderr",
     "output_type": "stream",
     "text": [
      "Warning message:\n",
      "\"cannot remove prior installation of package 'ps'\"\n",
      "Warning message in file.copy(savedcopy, lib, recursive = TRUE):\n",
      "\"problem copying C:\\Users\\hfz_a\\Documents\\R\\win-library\\4.1\\00LOCK\\ps\\libs\\x64\\ps.dll to C:\\Users\\hfz_a\\Documents\\R\\win-library\\4.1\\ps\\libs\\x64\\ps.dll: Permission denied\"\n",
      "Warning message:\n",
      "\"restored 'ps'\"\n"
     ]
    },
    {
     "name": "stdout",
     "output_type": "stream",
     "text": [
      "package 'cpp11' successfully unpacked and MD5 sums checked\n",
      "package 'wk' successfully unpacked and MD5 sums checked\n",
      "package 'tinytex' successfully unpacked and MD5 sums checked\n",
      "package 'stringr' successfully unpacked and MD5 sums checked\n",
      "package 'highr' successfully unpacked and MD5 sums checked\n",
      "package 'sfheaders' successfully unpacked and MD5 sums checked\n",
      "package 'rapidjsonr' successfully unpacked and MD5 sums checked\n",
      "package 'jsonify' successfully unpacked and MD5 sums checked\n",
      "package 'geometries' successfully unpacked and MD5 sums checked\n",
      "package 'lazyeval' successfully unpacked and MD5 sums checked\n",
      "package 'e1071' successfully unpacked and MD5 sums checked\n",
      "package 'processx' successfully unpacked and MD5 sums checked\n"
     ]
    },
    {
     "name": "stderr",
     "output_type": "stream",
     "text": [
      "Warning message:\n",
      "\"cannot remove prior installation of package 'processx'\"\n",
      "Warning message in file.copy(savedcopy, lib, recursive = TRUE):\n",
      "\"problem copying C:\\Users\\hfz_a\\Documents\\R\\win-library\\4.1\\00LOCK\\processx\\libs\\x64\\processx.dll to C:\\Users\\hfz_a\\Documents\\R\\win-library\\4.1\\processx\\libs\\x64\\processx.dll: Permission denied\"\n",
      "Warning message:\n",
      "\"restored 'processx'\"\n"
     ]
    },
    {
     "name": "stdout",
     "output_type": "stream",
     "text": [
      "package 'callr' successfully unpacked and MD5 sums checked\n",
      "package 'units' successfully unpacked and MD5 sums checked\n",
      "package 's2' successfully unpacked and MD5 sums checked\n",
      "package 'classInt' successfully unpacked and MD5 sums checked\n",
      "package 'xfun' successfully unpacked and MD5 sums checked\n",
      "package 'plyr' successfully unpacked and MD5 sums checked\n",
      "package 'terra' successfully unpacked and MD5 sums checked\n",
      "package 'svglite' successfully unpacked and MD5 sums checked\n",
      "package 'brew' successfully unpacked and MD5 sums checked\n",
      "package 'leaflet.providers' successfully unpacked and MD5 sums checked\n",
      "package 'crosstalk' successfully unpacked and MD5 sums checked\n",
      "package 'geojsonsf' successfully unpacked and MD5 sums checked\n",
      "package 'yaml' successfully unpacked and MD5 sums checked\n",
      "package 'webshot' successfully unpacked and MD5 sums checked\n",
      "package 'sp' successfully unpacked and MD5 sums checked\n",
      "package 'sf' successfully unpacked and MD5 sums checked\n",
      "package 'satellite' successfully unpacked and MD5 sums checked\n",
      "package 'raster' successfully unpacked and MD5 sums checked\n",
      "package 'png' successfully unpacked and MD5 sums checked\n",
      "package 'leafpop' successfully unpacked and MD5 sums checked\n",
      "package 'leaflet' successfully unpacked and MD5 sums checked\n",
      "package 'leafem' successfully unpacked and MD5 sums checked\n",
      "package 'htmlwidgets' successfully unpacked and MD5 sums checked\n",
      "package 'tidyselect' successfully unpacked and MD5 sums checked\n",
      "package 'dplyr' successfully unpacked and MD5 sums checked\n",
      "package 'sys' successfully unpacked and MD5 sums checked\n",
      "package 'mapview' successfully unpacked and MD5 sums checked\n",
      "package 'leafpm' successfully unpacked and MD5 sums checked\n",
      "package 'leaflet.extras' successfully unpacked and MD5 sums checked\n",
      "package 'openssl' successfully unpacked and MD5 sums checked\n",
      "package 'curl' successfully unpacked and MD5 sums checked\n"
     ]
    },
    {
     "name": "stderr",
     "output_type": "stream",
     "text": [
      "Warning message:\n",
      "\"cannot remove prior installation of package 'curl'\"\n",
      "Warning message in file.copy(savedcopy, lib, recursive = TRUE):\n",
      "\"problem copying C:\\Users\\hfz_a\\Documents\\R\\win-library\\4.1\\00LOCK\\curl\\libs\\x64\\curl.dll to C:\\Users\\hfz_a\\Documents\\R\\win-library\\4.1\\curl\\libs\\x64\\curl.dll: Permission denied\"\n",
      "Warning message:\n",
      "\"restored 'curl'\"\n"
     ]
    },
    {
     "name": "stdout",
     "output_type": "stream",
     "text": [
      "package 'rstudioapi' successfully unpacked and MD5 sums checked\n",
      "package 'pbapply' successfully unpacked and MD5 sums checked\n",
      "package 'patchwork' successfully unpacked and MD5 sums checked\n",
      "package 'mapedit' successfully unpacked and MD5 sums checked\n",
      "package 'lwgeom' successfully unpacked and MD5 sums checked\n",
      "package 'xml2' successfully unpacked and MD5 sums checked\n",
      "package 'getPass' successfully unpacked and MD5 sums checked\n",
      "\n",
      "The downloaded binary packages are in\n",
      "\tC:\\Users\\hfz_a\\AppData\\Local\\Temp\\RtmpCKMsAY\\downloaded_packages\n"
     ]
    },
    {
     "name": "stderr",
     "output_type": "stream",
     "text": [
      "installing the source packages 'viridisLite', 'bslib', 'evaluate', 'viridis', 'markdown', 'rmarkdown', 'knitr', 'servr', 'httr'\n",
      "\n",
      "\n",
      "Warning message in i.p(...):\n",
      "\"installation of package 'bslib' had non-zero exit status\"\n",
      "WARNING: Rtools is required to build R packages, but is not currently installed.\n",
      "\n",
      "Please download and install Rtools 4.0 from https://cran.r-project.org/bin/windows/Rtools/.\n",
      "\n"
     ]
    },
    {
     "name": "stdout",
     "output_type": "stream",
     "text": [
      "\u001b[32mv\u001b[39m  \u001b[90mchecking for file 'C:\\Users\\hfz_a\\AppData\\Local\\Temp\\RtmpCKMsAY\\remotes143c6694707d\\16EAGLE-getSpatialData-db66460/DESCRIPTION'\u001b[39m\u001b[36m\u001b[39m\n",
      "\u001b[90m-\u001b[39m\u001b[90m  \u001b[39m\u001b[90mpreparing 'getSpatialData':\u001b[39m\u001b[36m\u001b[36m (1.1s)\u001b[36m\u001b[39m\n",
      "\u001b[32mv\u001b[39m  \u001b[90mchecking DESCRIPTION meta-information\u001b[39m\u001b[36m\u001b[39m\n",
      "\u001b[90m-\u001b[39m\u001b[90m  \u001b[39m\u001b[90mchecking for LF line-endings in source and make files and shell scripts\u001b[39m\u001b[36m\u001b[39m\n",
      "\u001b[90m-\u001b[39m\u001b[90m  \u001b[39m\u001b[90mchecking for empty or unneeded directories\u001b[39m\u001b[36m\u001b[39m\n",
      "\u001b[90m-\u001b[39m\u001b[90m  \u001b[39m\u001b[90mbuilding 'getSpatialData_0.1.2.tar.gz'\u001b[39m\u001b[36m\u001b[39m\n",
      "   \n",
      "\r"
     ]
    },
    {
     "name": "stderr",
     "output_type": "stream",
     "text": [
      "Installing package into 'C:/Users/hfz_a/Documents/R/win-library/4.1'\n",
      "(as 'lib' is unspecified)\n",
      "\n",
      "Warning message in i.p(...):\n",
      "\"installation of package 'C:/Users/hfz_a/AppData/Local/Temp/RtmpCKMsAY/file143c6e855003/getSpatialData_0.1.2.tar.gz' had non-zero exit status\"\n"
     ]
    }
   ],
   "source": [
    "devtools::install_github(\"16EAGLE/getSpatialData\")\n"
   ]
  },
  {
   "cell_type": "code",
   "execution_count": 5,
   "id": "e73bf145-1212-4b2e-b045-a4ff672cdd62",
   "metadata": {
    "tags": []
   },
   "outputs": [
    {
     "ename": "ERROR",
     "evalue": "Error in library(getSpatialData): there is no package called 'getSpatialData'\n",
     "output_type": "error",
     "traceback": [
      "Error in library(getSpatialData): there is no package called 'getSpatialData'\nTraceback:\n",
      "1. library(getSpatialData)"
     ]
    }
   ],
   "source": [
    "library(getSpatialData)\n",
    "data(\"aoi_data\")\n",
    "\n",
    "# Define directory:\n",
    "set_archive(\"Data\")\n",
    "\n",
    "# Define an area of interest (AOI):\n",
    "# Use the example AOI or draw an AOI by calling set_aoi():\n",
    "set_aoi(aoi_data[[1]])\n",
    "# View the AOI:\n",
    "view_aoi()\n"
   ]
  },
  {
   "cell_type": "code",
   "execution_count": null,
   "id": "09e9ec6d-751f-4eab-9cd5-39664372bb9e",
   "metadata": {},
   "outputs": [],
   "source": []
  }
 ],
 "metadata": {
  "kernelspec": {
   "display_name": "R",
   "language": "R",
   "name": "ir"
  },
  "language_info": {
   "codemirror_mode": "r",
   "file_extension": ".r",
   "mimetype": "text/x-r-source",
   "name": "R",
   "pygments_lexer": "r",
   "version": "4.1.3"
  }
 },
 "nbformat": 4,
 "nbformat_minor": 5
}
